{
  "nbformat": 4,
  "nbformat_minor": 0,
  "metadata": {
    "colab": {
      "name": "related_keywords",
      "provenance": [],
      "authorship_tag": "ABX9TyM1tzVYUNWSzOsEOAxTnqzu",
      "include_colab_link": true
    },
    "kernelspec": {
      "name": "python3",
      "display_name": "Python 3"
    }
  },
  "cells": [
    {
      "cell_type": "markdown",
      "metadata": {
        "id": "view-in-github",
        "colab_type": "text"
      },
      "source": [
        "<a href=\"https://colab.research.google.com/github/songej/related_keywords/blob/main/related_keywords.ipynb\" target=\"_parent\"><img src=\"https://colab.research.google.com/assets/colab-badge.svg\" alt=\"Open In Colab\"/></a>"
      ]
    },
    {
      "cell_type": "markdown",
      "metadata": {
        "id": "FXFSxoTzGJUk"
      },
      "source": [
        "# 네이버 연관검색어 추출기\r\n",
        "네이버 연관검색어 추출기는 검색어를 지정하면 네이버 연관검색어를 크롤링 해주는 프로그램이다.\r\n",
        "\r\n",
        "## Features\r\n",
        "- 검색어 입력\r\n",
        "- 연관검색어 확인\r\n",
        "\r\n",
        "## Requirements\r\n",
        "- Python \r\n",
        "- BeautifulSoup\r\n",
        "\r\n",
        "## License\r\n",
        "[MIT](https://choosealicense.com/licenses/mit/) © [송은정](http://songej.com/)\r\n"
      ]
    },
    {
      "cell_type": "code",
      "metadata": {
        "id": "INrFr2gWduko"
      },
      "source": [
        "import requests\r\n",
        "from bs4 import BeautifulSoup\r\n",
        "import urllib.parse as urlparser"
      ],
      "execution_count": null,
      "outputs": []
    },
    {
      "cell_type": "code",
      "metadata": {
        "id": "xGVhP5sbdvMx"
      },
      "source": [
        "def naver_related_search(keyword):\r\n",
        "    url = 'https://search.naver.com/search.naver?ie=UTF-8&query=' + urlparser.quote(keyword)\r\n",
        "    response = requests.get(url)\r\n",
        "    \r\n",
        "    if response.status_code != 200:\r\n",
        "        return '실패'\r\n",
        "    else:\r\n",
        "        dom = BeautifulSoup(response.text, 'html.parser')\r\n",
        "        related_search = dom.select('ul.lst_related_srch li a')\r\n",
        "        result = [\r\n",
        "            i.text.strip()\r\n",
        "            for i in related_search\r\n",
        "        ]\r\n",
        "        \r\n",
        "        return result"
      ],
      "execution_count": null,
      "outputs": []
    },
    {
      "cell_type": "code",
      "metadata": {
        "colab": {
          "base_uri": "https://localhost:8080/"
        },
        "id": "-_6BaSnqeZOu",
        "outputId": "62c6214e-70b0-46a5-8141-6246870b5d99"
      },
      "source": [
        "naver_related_search('온라인수업')"
      ],
      "execution_count": null,
      "outputs": [
        {
          "output_type": "execute_result",
          "data": {
            "text/plain": [
              "['고등학교 온라인 수업',\n",
              " '코로나 온라인 수업',\n",
              " '온라인',\n",
              " '원격수업',\n",
              " '초등학교 온라인수업',\n",
              " '중학교 온라인수업',\n",
              " '서울 온라인수업',\n",
              " '비대면 수업',\n",
              " '초등온라인수업',\n",
              " '부산 온라인수업']"
            ]
          },
          "metadata": {
            "tags": []
          },
          "execution_count": 23
        }
      ]
    },
    {
      "cell_type": "code",
      "metadata": {
        "colab": {
          "base_uri": "https://localhost:8080/"
        },
        "id": "K3Ck-ziOgQG5",
        "outputId": "1216b328-ca32-4345-e5de-6ec58cd7f363"
      },
      "source": [
        "naver_related_search('원격수업')"
      ],
      "execution_count": null,
      "outputs": [
        {
          "output_type": "execute_result",
          "data": {
            "text/plain": [
              "['원격수업 뜻',\n",
              " '원격수업 관련주',\n",
              " '경기도 원격수업',\n",
              " '원격',\n",
              " '인천 원격수업',\n",
              " '원격수업이란',\n",
              " '코로나 원격수업',\n",
              " '고등학교 원격수업',\n",
              " '서울 원격수업',\n",
              " '경기 원격수업']"
            ]
          },
          "metadata": {
            "tags": []
          },
          "execution_count": 32
        }
      ]
    },
    {
      "cell_type": "code",
      "metadata": {
        "colab": {
          "base_uri": "https://localhost:8080/"
        },
        "id": "kEJEmlbNDHsD",
        "outputId": "f9442ecd-1dd9-48a0-c7af-dffd57211c18"
      },
      "source": [
        "naver_related_search('비대면수업')"
      ],
      "execution_count": null,
      "outputs": [
        {
          "output_type": "execute_result",
          "data": {
            "text/plain": [
              "['학원 비대면 수업',\n",
              " '비대면 수업 단점',\n",
              " '대학 비대면 수업',\n",
              " '비대면',\n",
              " '비대면 수업 장점',\n",
              " '온라인 수업',\n",
              " '학원 온라인수업',\n",
              " '비대면수업 관련주',\n",
              " '매쓰프로',\n",
              " '대학교 비대면수업']"
            ]
          },
          "metadata": {
            "tags": []
          },
          "execution_count": 33
        }
      ]
    }
  ]
}